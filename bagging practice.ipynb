{
 "cells": [
  {
   "cell_type": "code",
   "execution_count": 1,
   "metadata": {},
   "outputs": [],
   "source": [
    "import numpy as np\n",
    "import matplotlib.pyplot as plt\n",
    "from sklearn.datasets import load_digits\n",
    "from sklearn.tree import DecisionTreeClassifier\n",
    "from sklearn.model_selection import StratifiedKFold, train_test_split\n",
    "from sklearn.model_selection import cross_val_score\n",
    "from sklearn import metrics\n",
    "\n",
    "def bootstrap_sample(X, y):\n",
    "    n_samples = X.shape[0]\n",
    "    idxs = np.random.choice(n_samples, n_samples, replace=True)\n",
    "    return X[idxs], y[idxs]\n",
    "\n",
    "def bagging_ensemble(X_train, y_train, X_test, y_test, n_clf = 10):\n",
    "    \n",
    "    pred_list = []\n",
    "    for _ in range(n_clf):\n",
    "        model = DecisionTreeClassifier()\n",
    "        X, y = bootstrap_sample(X_train, y_train)\n",
    "        model.fit(X, y)\n",
    "        pred_list.append(model.predict(X_test))\n",
    "\n",
    "    y_pred = np.apply_along_axis(lambda x:np.argmax(np.bincount(x)), axis=0, arr=pred_list)\n",
    "    accuracy = metrics.accuracy_score(y_test, y_pred)\n",
    "        \n",
    "    return accuracy\n"
   ]
  },
  {
   "cell_type": "code",
   "execution_count": 2,
   "metadata": {},
   "outputs": [
    {
     "data": {
      "text/plain": [
       "0.9722222222222222"
      ]
     },
     "execution_count": 2,
     "metadata": {},
     "output_type": "execute_result"
    }
   ],
   "source": [
    "# Load digits dataset\n",
    "digits = load_digits(n_class = 4)\n",
    "X, y = digits.data, digits.target\n",
    "X_train, X_test, y_train, y_test = train_test_split(X, y, test_size = 0.2)\n",
    "accuracy = bagging_ensemble(X_train, y_train, X_test, y_test)\n",
    "accuracy\n"
   ]
  }
 ],
 "metadata": {
  "kernelspec": {
   "display_name": "Python 3.9.15 ('base')",
   "language": "python",
   "name": "python3"
  },
  "language_info": {
   "codemirror_mode": {
    "name": "ipython",
    "version": 3
   },
   "file_extension": ".py",
   "mimetype": "text/x-python",
   "name": "python",
   "nbconvert_exporter": "python",
   "pygments_lexer": "ipython3",
   "version": "3.9.15"
  },
  "orig_nbformat": 4,
  "vscode": {
   "interpreter": {
    "hash": "e320dfeb06630bafa77eb5da607544aa614fc900b2e00ab41ad317ff9ada1530"
   }
  }
 },
 "nbformat": 4,
 "nbformat_minor": 2
}
